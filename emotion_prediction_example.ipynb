{
  "nbformat": 4,
  "nbformat_minor": 0,
  "metadata": {
    "colab": {
      "name": "emotion_prediction_example.ipynb",
      "provenance": [],
      "collapsed_sections": []
    },
    "kernelspec": {
      "name": "python3",
      "display_name": "Python 3"
    },
    "language_info": {
      "name": "python"
    },
    "accelerator": "GPU"
  },
  "cells": [
    {
      "cell_type": "code",
      "metadata": {
        "id": "zkIt7_lKp0h-",
        "colab": {
          "base_uri": "https://localhost:8080/"
        },
        "outputId": "56b5690c-f39c-4afd-aba5-0898ed62eaaa"
      },
      "source": [
        "# Install the transformers library\n",
        "!pip install transformers"
      ],
      "execution_count": 42,
      "outputs": [
        {
          "output_type": "stream",
          "text": [
            "Requirement already satisfied: transformers in /usr/local/lib/python3.7/dist-packages (4.6.1)\n",
            "Requirement already satisfied: sacremoses in /usr/local/lib/python3.7/dist-packages (from transformers) (0.0.45)\n",
            "Requirement already satisfied: regex!=2019.12.17 in /usr/local/lib/python3.7/dist-packages (from transformers) (2019.12.20)\n",
            "Requirement already satisfied: tokenizers<0.11,>=0.10.1 in /usr/local/lib/python3.7/dist-packages (from transformers) (0.10.3)\n",
            "Requirement already satisfied: huggingface-hub==0.0.8 in /usr/local/lib/python3.7/dist-packages (from transformers) (0.0.8)\n",
            "Requirement already satisfied: requests in /usr/local/lib/python3.7/dist-packages (from transformers) (2.23.0)\n",
            "Requirement already satisfied: filelock in /usr/local/lib/python3.7/dist-packages (from transformers) (3.0.12)\n",
            "Requirement already satisfied: tqdm>=4.27 in /usr/local/lib/python3.7/dist-packages (from transformers) (4.41.1)\n",
            "Requirement already satisfied: packaging in /usr/local/lib/python3.7/dist-packages (from transformers) (20.9)\n",
            "Requirement already satisfied: importlib-metadata; python_version < \"3.8\" in /usr/local/lib/python3.7/dist-packages (from transformers) (4.5.0)\n",
            "Requirement already satisfied: numpy>=1.17 in /usr/local/lib/python3.7/dist-packages (from transformers) (1.19.5)\n",
            "Requirement already satisfied: joblib in /usr/local/lib/python3.7/dist-packages (from sacremoses->transformers) (1.0.1)\n",
            "Requirement already satisfied: click in /usr/local/lib/python3.7/dist-packages (from sacremoses->transformers) (7.1.2)\n",
            "Requirement already satisfied: six in /usr/local/lib/python3.7/dist-packages (from sacremoses->transformers) (1.15.0)\n",
            "Requirement already satisfied: urllib3!=1.25.0,!=1.25.1,<1.26,>=1.21.1 in /usr/local/lib/python3.7/dist-packages (from requests->transformers) (1.24.3)\n",
            "Requirement already satisfied: chardet<4,>=3.0.2 in /usr/local/lib/python3.7/dist-packages (from requests->transformers) (3.0.4)\n",
            "Requirement already satisfied: certifi>=2017.4.17 in /usr/local/lib/python3.7/dist-packages (from requests->transformers) (2021.5.30)\n",
            "Requirement already satisfied: idna<3,>=2.5 in /usr/local/lib/python3.7/dist-packages (from requests->transformers) (2.10)\n",
            "Requirement already satisfied: pyparsing>=2.0.2 in /usr/local/lib/python3.7/dist-packages (from packaging->transformers) (2.4.7)\n",
            "Requirement already satisfied: typing-extensions>=3.6.4; python_version < \"3.8\" in /usr/local/lib/python3.7/dist-packages (from importlib-metadata; python_version < \"3.8\"->transformers) (3.7.4.3)\n",
            "Requirement already satisfied: zipp>=0.5 in /usr/local/lib/python3.7/dist-packages (from importlib-metadata; python_version < \"3.8\"->transformers) (3.4.1)\n"
          ],
          "name": "stdout"
        }
      ]
    },
    {
      "cell_type": "code",
      "metadata": {
        "id": "0wC0q6Bxp3or"
      },
      "source": [
        "# Import required packages\n",
        "import torch\n",
        "import pandas as pd\n",
        "import numpy as np\n",
        "from transformers import AutoTokenizer, AutoModelForSequenceClassification, Trainer\n",
        "\n",
        "# Create class for data preparation\n",
        "class SimpleDataset:\n",
        "    def __init__(self, tokenized_texts):\n",
        "        self.tokenized_texts = tokenized_texts\n",
        "    \n",
        "    def __len__(self):\n",
        "        return len(self.tokenized_texts[\"input_ids\"])\n",
        "    \n",
        "    def __getitem__(self, idx):\n",
        "        return {k: v[idx] for k, v in self.tokenized_texts.items()}"
      ],
      "execution_count": 43,
      "outputs": []
    },
    {
      "cell_type": "code",
      "metadata": {
        "id": "SZNal9hXp6wm"
      },
      "source": [
        "# Load tokenizer and model, create trainer\n",
        "model_name = \"j-hartmann/emotion-english-distilroberta-base\"\n",
        "tokenizer = AutoTokenizer.from_pretrained(model_name)\n",
        "model = AutoModelForSequenceClassification.from_pretrained(model_name)\n",
        "trainer = Trainer(model=model)"
      ],
      "execution_count": 44,
      "outputs": []
    },
    {
      "cell_type": "code",
      "metadata": {
        "id": "QHEzNB5Up5Yc"
      },
      "source": [
        "# Create list of texts (can be imported from .csv, .xls etc.)\n",
        "pred_texts = ['I like that','That is annoying','This is great!','Wouldn´t recommend it.']"
      ],
      "execution_count": 45,
      "outputs": []
    },
    {
      "cell_type": "code",
      "metadata": {
        "id": "d8cEaNRjxzLX"
      },
      "source": [
        "# Example: Import data from csv-file stored on Google Drive\n",
        "\n",
        "#from google.colab import drive\n",
        "#drive.mount('/content/drive')\n",
        "\n",
        "\n",
        "#file_name = \"/content/drive/MyDrive/Colab Notebooks/your-filename.csv\"\n",
        "#text_column = \"text\"\n",
        "\n",
        "#df_pred = pd.read_csv(file_name)\n",
        "#pred_texts = df_pred[text_column].dropna().astype('str').tolist()"
      ],
      "execution_count": 46,
      "outputs": []
    },
    {
      "cell_type": "code",
      "metadata": {
        "id": "oKLUxGXmp7zF"
      },
      "source": [
        "# Tokenize texts and create prediction data set\n",
        "tokenized_texts = tokenizer(pred_texts,truncation=True,padding=True)\n",
        "pred_dataset = SimpleDataset(tokenized_texts)"
      ],
      "execution_count": 47,
      "outputs": []
    },
    {
      "cell_type": "code",
      "metadata": {
        "id": "h5mjnob3sMCl",
        "colab": {
          "base_uri": "https://localhost:8080/",
          "height": 59
        },
        "outputId": "d17827d0-98e3-4da9-e376-a8aa8cb7bde2"
      },
      "source": [
        "# Run predictions\n",
        "predictions = trainer.predict(pred_dataset)"
      ],
      "execution_count": 48,
      "outputs": [
        {
          "output_type": "display_data",
          "data": {
            "text/html": [
              "\n",
              "    <div>\n",
              "      \n",
              "      <progress value='1' max='1' style='width:300px; height:20px; vertical-align: middle;'></progress>\n",
              "      [1/1 : < :]\n",
              "    </div>\n",
              "    "
            ],
            "text/plain": [
              "<IPython.core.display.HTML object>"
            ]
          },
          "metadata": {
            "tags": []
          }
        }
      ]
    },
    {
      "cell_type": "code",
      "metadata": {
        "id": "4T37fcKad8pP",
        "colab": {
          "base_uri": "https://localhost:8080/"
        },
        "outputId": "ae37630f-ca31-4310-af03-47a18cf55af1"
      },
      "source": [
        "print(predictions)"
      ],
      "execution_count": 49,
      "outputs": [
        {
          "output_type": "stream",
          "text": [
            "PredictionOutput(predictions=array([[-0.86106074, -0.70981276, -2.0573738 ,  5.4963565 ,  0.04488751,\n",
            "        -0.13068563, -0.39005983],\n",
            "       [ 2.3808117 ,  2.2069035 , -1.7530867 , -2.553061  ,  0.6291722 ,\n",
            "         0.45815602, -1.4305464 ],\n",
            "       [-0.78908926, -1.1183804 , -2.2689617 ,  4.869933  ,  1.130197  ,\n",
            "        -1.5899479 ,  1.0672089 ],\n",
            "       [-0.48905545,  1.01938   ,  0.3934468 , -2.7029574 ,  1.9741044 ,\n",
            "         1.5008929 , -2.0667758 ]], dtype=float32), label_ids=None, metrics={'test_runtime': 0.0194, 'test_samples_per_second': 206.448, 'init_mem_cpu_alloc_delta': 0, 'init_mem_gpu_alloc_delta': 329793536, 'init_mem_cpu_peaked_delta': 0, 'init_mem_gpu_peaked_delta': 0, 'test_mem_cpu_alloc_delta': 0, 'test_mem_gpu_alloc_delta': 0, 'test_mem_cpu_peaked_delta': 0, 'test_mem_gpu_peaked_delta': 1218560})\n"
          ],
          "name": "stdout"
        }
      ]
    },
    {
      "cell_type": "code",
      "metadata": {
        "id": "s3O53RHCsVd7"
      },
      "source": [
        "# Transform predictions to labels\n",
        "preds = predictions.predictions.argmax(-1)\n",
        "labels = pd.Series(preds).map(model.config.id2label)\n",
        "scores = (np.exp(predictions[0])/np.exp(predictions[0]).sum(-1,keepdims=True)).max(1)"
      ],
      "execution_count": 50,
      "outputs": []
    },
    {
      "cell_type": "code",
      "metadata": {
        "id": "sUBbYjnhmxop"
      },
      "source": [
        "# scores raw\n",
        "temp = (np.exp(predictions[0])/np.exp(predictions[0]).sum(-1,keepdims=True))"
      ],
      "execution_count": 51,
      "outputs": []
    },
    {
      "cell_type": "code",
      "metadata": {
        "id": "qXuTJKMKhCbL",
        "colab": {
          "base_uri": "https://localhost:8080/"
        },
        "outputId": "de858d70-a4fa-41d6-9aee-bf217d2b63fc"
      },
      "source": [
        "# work in progress\n",
        "# container\n",
        "anger = []\n",
        "disgust = []\n",
        "fear = []\n",
        "joy = []\n",
        "neutral = []\n",
        "sadness = []\n",
        "surprise = []\n",
        "\n",
        "# extract scores (as many entries as exist in pred_texts)\n",
        "for i in range(len(pred_texts)):\n",
        "  anger.append(temp[i][0])\n",
        "  disgust.append(temp[i][1])\n",
        "  fear.append(temp[i][2])\n",
        "  joy.append(temp[i][3])\n",
        "  neutral.append(temp[i][4])\n",
        "  sadness.append(temp[i][5])\n",
        "  surprise.append(temp[i][6])"
      ],
      "execution_count": 59,
      "outputs": [
        {
          "output_type": "stream",
          "text": [
            "[0.001708315, 0.45342872, 0.0033060017, 0.036617532]\n",
            "[0.036617532]\n"
          ],
          "name": "stdout"
        }
      ]
    },
    {
      "cell_type": "code",
      "metadata": {
        "id": "FhIONI7ett0q",
        "colab": {
          "base_uri": "https://localhost:8080/",
          "height": 191
        },
        "outputId": "d9864225-505b-44f0-9fce-285cb18bcc2a"
      },
      "source": [
        "# Create DataFrame with texts, predictions, labels, and scores\n",
        "df = pd.DataFrame(list(zip(pred_texts,preds,labels,scores,  anger, disgust, fear, joy, neutral, sadness, surprise)), columns=['text','pred','label','score', 'anger', 'disgust', 'fear', 'joy', 'neutral', 'sadness', 'surprise'])\n",
        "df.head()"
      ],
      "execution_count": 54,
      "outputs": [
        {
          "output_type": "execute_result",
          "data": {
            "text/html": [
              "<div>\n",
              "<style scoped>\n",
              "    .dataframe tbody tr th:only-of-type {\n",
              "        vertical-align: middle;\n",
              "    }\n",
              "\n",
              "    .dataframe tbody tr th {\n",
              "        vertical-align: top;\n",
              "    }\n",
              "\n",
              "    .dataframe thead th {\n",
              "        text-align: right;\n",
              "    }\n",
              "</style>\n",
              "<table border=\"1\" class=\"dataframe\">\n",
              "  <thead>\n",
              "    <tr style=\"text-align: right;\">\n",
              "      <th></th>\n",
              "      <th>text</th>\n",
              "      <th>pred</th>\n",
              "      <th>label</th>\n",
              "      <th>score</th>\n",
              "      <th>anger</th>\n",
              "      <th>disgust</th>\n",
              "      <th>fear</th>\n",
              "      <th>joy</th>\n",
              "      <th>neutral</th>\n",
              "      <th>sadness</th>\n",
              "      <th>surprise</th>\n",
              "    </tr>\n",
              "  </thead>\n",
              "  <tbody>\n",
              "    <tr>\n",
              "      <th>0</th>\n",
              "      <td>I like that</td>\n",
              "      <td>3</td>\n",
              "      <td>joy</td>\n",
              "      <td>0.985279</td>\n",
              "      <td>0.001708</td>\n",
              "      <td>0.001987</td>\n",
              "      <td>0.000516</td>\n",
              "      <td>0.985279</td>\n",
              "      <td>0.004227</td>\n",
              "      <td>0.003546</td>\n",
              "      <td>0.002736</td>\n",
              "    </tr>\n",
              "    <tr>\n",
              "      <th>1</th>\n",
              "      <td>That is annoying</td>\n",
              "      <td>0</td>\n",
              "      <td>anger</td>\n",
              "      <td>0.453429</td>\n",
              "      <td>0.453429</td>\n",
              "      <td>0.381050</td>\n",
              "      <td>0.007264</td>\n",
              "      <td>0.003264</td>\n",
              "      <td>0.078665</td>\n",
              "      <td>0.066300</td>\n",
              "      <td>0.010029</td>\n",
              "    </tr>\n",
              "    <tr>\n",
              "      <th>2</th>\n",
              "      <td>This is great!</td>\n",
              "      <td>3</td>\n",
              "      <td>joy</td>\n",
              "      <td>0.948386</td>\n",
              "      <td>0.003306</td>\n",
              "      <td>0.002378</td>\n",
              "      <td>0.000753</td>\n",
              "      <td>0.948386</td>\n",
              "      <td>0.022534</td>\n",
              "      <td>0.001484</td>\n",
              "      <td>0.021158</td>\n",
              "    </tr>\n",
              "    <tr>\n",
              "      <th>3</th>\n",
              "      <td>Wouldn´t recommend it.</td>\n",
              "      <td>4</td>\n",
              "      <td>neutral</td>\n",
              "      <td>0.429958</td>\n",
              "      <td>0.036618</td>\n",
              "      <td>0.165499</td>\n",
              "      <td>0.088502</td>\n",
              "      <td>0.004001</td>\n",
              "      <td>0.429958</td>\n",
              "      <td>0.267863</td>\n",
              "      <td>0.007560</td>\n",
              "    </tr>\n",
              "  </tbody>\n",
              "</table>\n",
              "</div>"
            ],
            "text/plain": [
              "                     text  pred    label  ...   neutral   sadness  surprise\n",
              "0             I like that     3      joy  ...  0.004227  0.003546  0.002736\n",
              "1        That is annoying     0    anger  ...  0.078665  0.066300  0.010029\n",
              "2          This is great!     3      joy  ...  0.022534  0.001484  0.021158\n",
              "3  Wouldn´t recommend it.     4  neutral  ...  0.429958  0.267863  0.007560\n",
              "\n",
              "[4 rows x 11 columns]"
            ]
          },
          "metadata": {
            "tags": []
          },
          "execution_count": 54
        }
      ]
    }
  ]
}